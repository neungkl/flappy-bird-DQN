{
 "cells": [
  {
   "cell_type": "code",
   "execution_count": 13,
   "metadata": {},
   "outputs": [],
   "source": [
    "import gym\n",
    "import numpy as np\n",
    "from collections import deque\n",
    "\n",
    "import matplotlib.pyplot as plt\n",
    "%matplotlib inline"
   ]
  },
  {
   "cell_type": "code",
   "execution_count": 3,
   "metadata": {},
   "outputs": [],
   "source": [
    "env = gym.make('Pong-v0')"
   ]
  },
  {
   "cell_type": "code",
   "execution_count": 50,
   "metadata": {},
   "outputs": [],
   "source": [
    "EPISODES = 1000\n",
    "GAMMA = 0.99\n",
    "\n",
    "EXPLORE_INIT = 1.0\n",
    "EXPLORE_FINAL = 0.01\n",
    "EXPLORE_FINAL_FRAME = 100000\n",
    "\n",
    "MEMORY_SIZE = 50000\n",
    "MEMORT_START_SIZE = 1000\n",
    "\n",
    "BATCH_SIZE = 16\n",
    "ACTION_SIZE = env.action_space.n"
   ]
  },
  {
   "cell_type": "markdown",
   "metadata": {},
   "source": [
    "Remove outer game area and normalize to 0-1"
   ]
  },
  {
   "cell_type": "code",
   "execution_count": 51,
   "metadata": {},
   "outputs": [],
   "source": [
    "def preprocess(image):\n",
    "    image = image / 255\n",
    "    return image[34:194,0:160,0:3]"
   ]
  },
  {
   "cell_type": "code",
   "execution_count": 45,
   "metadata": {},
   "outputs": [
    {
     "name": "stdout",
     "output_type": "stream",
     "text": [
      "(160, 160, 3)\n"
     ]
    },
    {
     "data": {
      "text/plain": [
       "<matplotlib.image.AxesImage at 0x7f36189f4470>"
      ]
     },
     "execution_count": 45,
     "metadata": {},
     "output_type": "execute_result"
    },
    {
     "data": {
      "image/png": "[encoded data removed]",
      "text/plain": [
       "<matplotlib.figure.Figure at 0x7f3618b73630>"
      ]
     },
     "metadata": {},
     "output_type": "display_data"
    }
   ],
   "source": [
    "# env.reset()\n",
    "# action = env.action_space.sample()\n",
    "# obs, reward, done, _ = env.step(action)\n",
    "\n",
    "# image = env.render(mode='rgb_array')\n",
    "# image = image[34:194,0:160,0:3]\n",
    "# image = image / 255\n",
    "# print(image.shape)\n",
    "\n",
    "# plt.imshow(image)"
   ]
  },
  {
   "cell_type": "code",
   "execution_count": null,
   "metadata": {},
   "outputs": [],
   "source": [
    "class QNetwork:\n",
    "    def __init__(self, learning_rate=0.001):\n",
    "        self.model = Sequential()\n",
    "\n",
    "        self.model.add(Dense(hidden_size, activation='relu',\n",
    "                             input_dim=state_size))\n",
    "        self.model.add(Dense(action_size, activation='linear'))\n",
    "\n",
    "        self.optimizer = Adam(lr=learning_rate)\n",
    "        self.model.compile(loss='mse', optimizer=self.optimizer)"
   ]
  },
  {
   "cell_type": "code",
   "execution_count": 52,
   "metadata": {},
   "outputs": [],
   "source": [
    "class Memory():\n",
    "    def __init__(self, max_size):\n",
    "        self.buffer = deque(maxlen=max_size)\n",
    "\n",
    "    def add(self, experience):\n",
    "        self.buffer.append(experience)\n",
    "    \n",
    "    def size(self):\n",
    "        return len(self.buffer)\n",
    "\n",
    "    def sample(self, batch_size):\n",
    "        idx = np.random.choice(\n",
    "            np.arange(len(self.buffer)),\n",
    "            size=batch_size,\n",
    "            replace=False\n",
    "        )\n",
    "        return [self.buffer[ii] for ii in idx]"
   ]
  },
  {
   "cell_type": "code",
   "execution_count": 49,
   "metadata": {},
   "outputs": [],
   "source": [
    "memory = Memory(max_size = MEMORY_SIZE)"
   ]
  },
  {
   "cell_type": "code",
   "execution_count": null,
   "metadata": {},
   "outputs": [],
   "source": [
    "explore_rate = EXPLORE_INIT\n",
    "frame = 0\n",
    "\n",
    "for ep in range(0, EPISODES):\n",
    "    env.reset()\n",
    "    state, reward, done, _ = env.step(env.action_space.sample())\n",
    "    state = preprocess(state)\n",
    "    frame += 1\n",
    "    \n",
    "    total_reward = 0\n",
    "    \n",
    "    while True:\n",
    "        explore_rate = np.max(\n",
    "            EXPLORE_FINAL, \n",
    "            EXPLORE_INIT - (EXPLORE_INIT - EXPLORE_FINAL) * frame / EXPLORE_FINAL_FRAME\n",
    "        )\n",
    "        \n",
    "        if np.random.rand() > explore_rate:\n",
    "            action = np.argmax(model.predict(state)[0])\n",
    "        else:\n",
    "            action = env.action_space.sample()\n",
    "            \n",
    "        \n",
    "        next_state, reward, done, _ = env.step(env.action_space.sample())\n",
    "        next_state = preprocess(next_state)\n",
    "        frame += 1\n",
    "        state = next_state\n",
    "        \n",
    "#         env.render()\n",
    "        \n",
    "        total_reward += reward\n",
    "        \n",
    "        memory.add((state, action, reward, done, next_state))\n",
    "        \n",
    "        if memory.size() >= MEMORT_START_SIZE:\n",
    "            minibatch = memory.sample(BATCH_SIZE)\n",
    "            \n",
    "            inputs = np.zeros((BATCH_SIZE, 160, 160, 3))\n",
    "            targets = np.zeros((BATCH_SIZE, ACTION_SIZE))\n",
    "            \n",
    "            for i, (state_b, action_b, reward_b, done_b, next_state_b) in enumerate(minibatch):\n",
    "                inputs[i:i+1] = state_b\n",
    "                if done_b:\n",
    "                    target = reward_b\n",
    "                else:\n",
    "                    target = reward_b + GAMMA * np.amax(model.predict(next_state_b)[0])\n",
    "                targets[i] = model.predict(state_b)\n",
    "                targets[i][action_b] = target\n",
    "                \n",
    "            model.fit(inputs, targets, epochs=1, verbose=0)\n",
    "\n",
    "        \n",
    "        if done:\n",
    "            print(\"Episode {}, Total Reward {}, Explore Rate {}\".format(ep + 1, total_reward, explore_rate))\n",
    "            break"
   ]
  }
 ],
 "metadata": {
  "kernelspec": {
   "display_name": "Python 3",
   "language": "python",
   "name": "python3"
  },
  "language_info": {
   "codemirror_mode": {
    "name": "ipython",
    "version": 3
   },
   "file_extension": ".py",
   "mimetype": "text/x-python",
   "name": "python",
   "nbconvert_exporter": "python",
   "pygments_lexer": "ipython3",
   "version": "3.5.2"
  }
 },
 "nbformat": 4,
 "nbformat_minor": 2
}
