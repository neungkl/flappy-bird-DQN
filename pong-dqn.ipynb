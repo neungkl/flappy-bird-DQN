{
 "cells": [
  {
   "cell_type": "code",
   "execution_count": 1,
   "metadata": {},
   "outputs": [],
   "source": [
    "import matplotlib.pyplot as plt\n",
    "%matplotlib inline\n",
    "from IPython import display"
   ]
  },
  {
   "cell_type": "code",
   "execution_count": 2,
   "metadata": {},
   "outputs": [
    {
     "data": {
      "image/png": "[encoded data removed]",
      "text/plain": [
       "<matplotlib.figure.Figure at 0x7f2f1ffe1e10>"
      ]
     },
     "metadata": {},
     "output_type": "display_data"
    }
   ],
   "source": [
    "import gym\n",
    "env = gym.make('Pong-v0')\n",
    "env.reset()\n",
    "img = plt.imshow(env.render(mode='rgb_array'))\n",
    "plt.axis('off')\n",
    "reward_list = []\n",
    "for i in range(100):\n",
    "    observation, reward, done, info = env.step(env.action_space.sample())\n",
    "    if reward != 0:\n",
    "        reward_list.append(reward)\n",
    "    if i % 1 == 0:\n",
    "        img.set_data(env.render(mode='rgb_array'))\n",
    "        plt.title(\"%s | Step: %d, Reward: %d\" % (env.env._spec.id, env._elapsed_steps, reward))\n",
    "        display.display(plt.gcf())\n",
    "        display.clear_output(wait=True)\n",
    "    if done:\n",
    "        env.reset()"
   ]
  },
  {
   "cell_type": "code",
   "execution_count": null,
   "metadata": {},
   "outputs": [],
   "source": []
  }
 ],
 "metadata": {
  "kernelspec": {
   "display_name": "Python 3",
   "language": "python",
   "name": "python3"
  },
  "language_info": {
   "codemirror_mode": {
    "name": "ipython",
    "version": 3
   },
   "file_extension": ".py",
   "mimetype": "text/x-python",
   "name": "python",
   "nbconvert_exporter": "python",
   "pygments_lexer": "ipython3",
   "version": "3.5.2"
  }
 },
 "nbformat": 4,
 "nbformat_minor": 2
}
